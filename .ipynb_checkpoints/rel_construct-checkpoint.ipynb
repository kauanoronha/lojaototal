{
 "cells": [
  {
   "cell_type": "markdown",
   "id": "526a8ef5-6f45-4935-b731-b5807642ea9e",
   "metadata": {},
   "source": [
    "Xls do live\n",
    "remove a primeira coluna \n",
    "transforma em csv \n",
    "remove outras colunas \n",
    "altera o nome da coluna de quantidade para qtd_2023\n",
    "grava o arquivo \n",
    "\n",
    "\n"
   ]
  },
  {
   "cell_type": "code",
   "execution_count": null,
   "id": "ea71c5ab-f057-44c3-b9bf-0f40eccb7f43",
   "metadata": {},
   "outputs": [],
   "source": [
    "import pandas as pd \n",
    "\n",
    "df1 = p"
   ]
  }
 ],
 "metadata": {
  "kernelspec": {
   "display_name": "Python 3 (ipykernel)",
   "language": "python",
   "name": "python3"
  },
  "language_info": {
   "codemirror_mode": {
    "name": "ipython",
    "version": 3
   },
   "file_extension": ".py",
   "mimetype": "text/x-python",
   "name": "python",
   "nbconvert_exporter": "python",
   "pygments_lexer": "ipython3",
   "version": "3.11.9"
  }
 },
 "nbformat": 4,
 "nbformat_minor": 5
}
