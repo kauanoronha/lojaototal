{
 "cells": [
  {
   "cell_type": "markdown",
   "id": "526a8ef5-6f45-4935-b731-b5807642ea9e",
   "metadata": {},
   "source": [
    "Xls do live\n",
    "remove a primeira linha\n",
    "remove a primeira coluna \n",
    "trata o codigo de produto e codigo de barras \n",
    "transforma em csv \n",
    "remove outras colunas \n",
    "altera o nome da coluna de quantidade para qtd_2023\n",
    "grava o arquivo \n",
    "\n",
    "\n"
   ]
  },
  {
   "cell_type": "code",
   "execution_count": 1,
   "id": "ea71c5ab-f057-44c3-b9bf-0f40eccb7f43",
   "metadata": {},
   "outputs": [
    {
     "ename": "SyntaxError",
     "evalue": "expected 'except' or 'finally' block (1324132608.py, line 9)",
     "output_type": "error",
     "traceback": [
      "\u001b[0;36m  Cell \u001b[0;32mIn[1], line 9\u001b[0;36m\u001b[0m\n\u001b[0;31m    df.drop(columns={'Ano', 'Valor Vale Troca', 'Líquido - Troca', 'Estoque Atual', 'Estoque Mínimo', 'Estoque Maximo'}, axis = 0)\u001b[0m\n\u001b[0m    ^\u001b[0m\n\u001b[0;31mSyntaxError\u001b[0m\u001b[0;31m:\u001b[0m expected 'except' or 'finally' block\n"
     ]
    }
   ],
   "source": [
    "import pandas as pd \n",
    "\n",
    "try:\n",
    "    #le o arquivo\n",
    "    df = pd.read_excel('FormFiltroConsultaVendaSintetica_29_04_2024_10_06_56.xls')\n",
    "#remove a primeira linha\n",
    "    df.drop(0) \n",
    "# remove colunas indesejadas \n",
    "df.drop(columns={'Ano', 'Valor Vale Troca', 'Líquido - Troca', 'Estoque Atual', 'Estoque Mínimo', 'Estoque Maximo'}, axis = 0)\n",
    "\n",
    "#altera valores do codigo de barras para string\n",
    "ajustado = df(dtype={'Código do Produto': str, 'Código de Barras': str})\n",
    "print (ajustado)\n",
    "\n",
    "exe\n",
    "\n",
    "\n",
    "\n",
    "\n",
    "\n",
    "\n",
    "\n",
    "\n",
    "#\n",
    "#d\n",
    "#d\n",
    "#d\n",
    "#d#####dd#ddf1 = pd.read_excel('FormFiltroConsultaVendaSintetica_29_04_2024_10_06_56.xls', dtype={''Código do Produto': str, 'Código de Barrass1 = pd.read_excel('FormFiltroConsultaVendaSintetica_29_04_2024_10_06_56.xls', dtype={'Código do Produto': str, 'Código de Barras': str})"
   ]
  },
  {
   "cell_type": "code",
   "execution_count": null,
   "id": "6c9db1a4-f445-4a96-bb63-5f617c2c8c0a",
   "metadata": {},
   "outputs": [],
   "source": []
  },
  {
   "cell_type": "code",
   "execution_count": null,
   "id": "3554fd50-c22c-4b4f-a8f6-6f2f4729edaf",
   "metadata": {},
   "outputs": [],
   "source": []
  }
 ],
 "metadata": {
  "kernelspec": {
   "display_name": "Python 3 (ipykernel)",
   "language": "python",
   "name": "python3"
  },
  "language_info": {
   "codemirror_mode": {
    "name": "ipython",
    "version": 3
   },
   "file_extension": ".py",
   "mimetype": "text/x-python",
   "name": "python",
   "nbconvert_exporter": "python",
   "pygments_lexer": "ipython3",
   "version": "3.11.9"
  }
 },
 "nbformat": 4,
 "nbformat_minor": 5
}
