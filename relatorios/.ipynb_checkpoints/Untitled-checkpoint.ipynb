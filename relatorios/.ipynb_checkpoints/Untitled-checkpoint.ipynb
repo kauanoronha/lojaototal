{
 "cells": [
  {
   "cell_type": "code",
   "execution_count": 7,
   "id": "6b3c9dee-e256-4cdb-bdd5-61c2bd202574",
   "metadata": {},
   "outputs": [
    {
     "name": "stdout",
     "output_type": "stream",
     "text": [
      "WARNING *** file size (370326) not 512 + multiple of sector size (512)\n"
     ]
    }
   ],
   "source": [
    "\n",
    "import pandas as pd \n",
    "\n",
    "#carrego o arquivo xlss\n",
    "xls_file = pd.ExcelFile('FormFiltroConsultaVendaSintetica_29_04_2024_10_06_56.xls')\n",
    "\n",
    "#Escolher a primeira planilha do arquivo \n",
    "df = pd.read_excel(xls_file)\n",
    "\n",
    "#salvar os dados em csv\n",
    "df.to_csv('convertido.csv', index=False)\n"
   ]
  },
  {
   "cell_type": "code",
   "execution_count": null,
   "id": "dfa375b6-335e-4904-ab92-7ea250b4de56",
   "metadata": {},
   "outputs": [],
   "source": []
  }
 ],
 "metadata": {
  "kernelspec": {
   "display_name": "Python 3 (ipykernel)",
   "language": "python",
   "name": "python3"
  },
  "language_info": {
   "codemirror_mode": {
    "name": "ipython",
    "version": 3
   },
   "file_extension": ".py",
   "mimetype": "text/x-python",
   "name": "python",
   "nbconvert_exporter": "python",
   "pygments_lexer": "ipython3",
   "version": "3.11.9"
  }
 },
 "nbformat": 4,
 "nbformat_minor": 5
}
